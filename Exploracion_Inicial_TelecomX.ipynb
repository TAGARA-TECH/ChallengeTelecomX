{
 "cells": [
  {
   "cell_type": "markdown",
   "id": "d05b038e",
   "metadata": {},
   "source": [
    "# Exploración Inicial del Dataset de Telecom X\n",
    "Este notebook tiene como objetivo comprender en profundidad la estructura del conjunto de datos proporcionado por **Telecom X**, a partir de su diccionario de datos oficial.\n",
    "\n",
    "Analizaremos cada columna para entender su propósito, tipo de variable, posibles valores y relevancia para el análisis de churn (fuga de clientes)."
   ]
  },
  {
   "cell_type": "code",
   "execution_count": null,
   "id": "97c044ce",
   "metadata": {},
   "outputs": [],
   "source": [
    "import pandas as pd\n",
    "\n",
    "# Cargar el dataset\n",
    "df = pd.read_csv('TelecomX_dataset.csv')  # Cambiar el nombre si es diferente\n",
    "df.head()"
   ]
  },
  {
   "cell_type": "code",
   "execution_count": null,
   "id": "f1dddab3",
   "metadata": {},
   "outputs": [],
   "source": [
    "# Información general del dataset\n",
    "df.info()"
   ]
  },
  {
   "cell_type": "code",
   "execution_count": null,
   "id": "19270f44",
   "metadata": {},
   "outputs": [],
   "source": [
    "# Verificamos valores nulos y estadística básica\n",
    "df.isnull().sum(), df.describe(include='all')"
   ]
  },
  {
   "cell_type": "markdown",
   "id": "9a20ed94",
   "metadata": {},
   "source": [
    "## Análisis por Columna\n",
    "A continuación, se detalla cada una de las columnas presentes en el dataset según el diccionario oficial y lo observado en los datos:"
   ]
  },
  {
   "cell_type": "markdown",
   "id": "3092749d",
   "metadata": {},
   "source": [
    "\n",
    "### customerID\n",
    "- **Tipo**: Categórica (ID único)\n",
    "- **Descripción**: Identificador único de cliente.\n",
    "- **Notas**: No es útil como variable predictiva directa.\n",
    "\n",
    "### Churn\n",
    "- **Tipo**: Categórica binaria (Yes/No)\n",
    "- **Descripción**: Indica si el cliente abandonó la empresa.\n",
    "- **Notas**: Es la variable objetivo a predecir.\n",
    "\n",
    "### gender\n",
    "- **Tipo**: Categórica (Male/Female)\n",
    "- **Descripción**: Género del cliente.\n",
    "- **Notas**: No parece correlacionada con churn según estudios previos.\n",
    "\n",
    "### SeniorCitizen\n",
    "- **Tipo**: Numérica binaria (0/1)\n",
    "- **Descripción**: Indica si el cliente tiene 65 años o más.\n",
    "- **Notas**: Convertir a categórica puede ser útil para visualizaciones.\n",
    "\n",
    "### Partner, Dependents\n",
    "- **Tipo**: Categóricas binarias (Yes/No)\n",
    "- **Descripción**: Si tiene pareja o dependientes.\n",
    "- **Notas**: Pueden influir en el comportamiento de cancelación.\n",
    "\n",
    "### tenure\n",
    "- **Tipo**: Numérica\n",
    "- **Descripción**: Meses como cliente.\n",
    "- **Notas**: Una de las variables más importantes para predecir churn.\n",
    "\n",
    "### PhoneService, MultipleLines\n",
    "- **Tipo**: Categóricas (Yes/No/No phone service)\n",
    "- **Descripción**: Servicios telefónicos contratados.\n",
    "- **Notas**: Revisar distribución por tipo de servicio.\n",
    "\n",
    "### InternetService, OnlineSecurity, OnlineBackup, DeviceProtection, TechSupport, StreamingTV, StreamingMovies\n",
    "- **Tipo**: Categóricas\n",
    "- **Descripción**: Servicios contratados relacionados con internet y entretenimiento.\n",
    "- **Notas**: Variables clave para detectar patrones de abandono.\n",
    "\n",
    "### Contract, PaperlessBilling, PaymentMethod\n",
    "- **Tipo**: Categóricas\n",
    "- **Descripción**: Información contractual y de pago.\n",
    "- **Notas**: Claves para políticas de retención.\n",
    "\n",
    "### Charges.Monthly, Charges.Total\n",
    "- **Tipo**: Numéricas\n",
    "- **Descripción**: Costos mensuales y acumulados.\n",
    "- **Notas**: Importantes para entender la rentabilidad y hábitos.\n"
   ]
  }
 ],
 "metadata": {},
 "nbformat": 4,
 "nbformat_minor": 5
}